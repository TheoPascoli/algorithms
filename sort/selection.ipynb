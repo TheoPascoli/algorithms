{
 "cells": [
  {
   "cell_type": "code",
   "metadata": {
    "ExecuteTime": {
     "end_time": "2025-03-10T15:25:52.254894Z",
     "start_time": "2025-03-10T15:25:52.248259Z"
    }
   },
   "source": [
    "def selection_sort(arr):\n",
    "    length = len(arr)\n",
    "    for i in range(length):\n",
    "        lowest = i\n",
    "        for j in range(i+1, length):\n",
    "            if arr[j] < arr[lowest]: lowest = j\n",
    "        if lowest != i:\n",
    "            arr[i], arr[lowest] = arr[lowest], arr[i]\n"
   ],
   "id": "e93c85523772a6f5",
   "outputs": [],
   "execution_count": 1
  },
  {
   "cell_type": "code",
   "metadata": {
    "ExecuteTime": {
     "end_time": "2025-03-10T15:26:13.011490Z",
     "start_time": "2025-03-10T15:26:13.008044Z"
    }
   },
   "source": [
    "arr = [5, 4, 3, 2, 1]\n",
    "\n",
    "selection_sort(arr)\n",
    "\n",
    "print(arr)"
   ],
   "id": "7e2e55e791bfd146",
   "outputs": [
    {
     "name": "stdout",
     "output_type": "stream",
     "text": [
      "[1, 2, 3, 4, 5]\n"
     ]
    }
   ],
   "execution_count": 2
  },
  {
   "cell_type": "code",
   "execution_count": null,
   "metadata": {},
   "outputs": [],
   "source": [],
   "id": "67461a500d4be859"
  }
 ],
 "metadata": {
  "kernelspec": {
   "display_name": "Python 3",
   "language": "python",
   "name": "python3"
  },
  "language_info": {
   "codemirror_mode": {
    "name": "ipython",
    "version": 3
   },
   "file_extension": ".py",
   "mimetype": "text/x-python",
   "name": "python",
   "nbconvert_exporter": "python",
   "pygments_lexer": "ipython3",
   "version": "3.11.10"
  }
 },
 "nbformat": 4,
 "nbformat_minor": 2
}
